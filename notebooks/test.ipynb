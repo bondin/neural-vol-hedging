{
 "cells": [
  {
   "cell_type": "code",
   "execution_count": null,
   "id": "e6bb9ed1-9d1b-4736-a57b-2002e082085d",
   "metadata": {},
   "outputs": [],
   "source": [
    "import pandas as pd\n",
    "import numpy as np\n",
    "\n",
    "path = 'data\\\\raw\\\\deribit\\\\date=2025-10-02\\\\underlying=BTC\\\\'\n",
    "\n",
    "pd.read_parquet"
   ]
  }
 ],
 "metadata": {
  "kernelspec": {
   "display_name": "Python 3 (ipykernel)",
   "language": "python",
   "name": "python3"
  },
  "language_info": {
   "codemirror_mode": {
    "name": "ipython",
    "version": 3
   },
   "file_extension": ".py",
   "mimetype": "text/x-python",
   "name": "python",
   "nbconvert_exporter": "python",
   "pygments_lexer": "ipython3",
   "version": "3.10.12"
  }
 },
 "nbformat": 4,
 "nbformat_minor": 5
}
